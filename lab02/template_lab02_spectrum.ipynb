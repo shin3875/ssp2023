{
 "cells": [
  {
   "cell_type": "markdown",
   "id": "2df169d8-4c37-4450-97b5-6cc781a2ae4a",
   "metadata": {},
   "source": [
    "# DEEE725 Speech Signal Processing Lab\n",
    "### 2023 Spring, Kyungpook National University \n",
    "### Instructor: Gil-Jin Jang"
   ]
  },
  {
   "cell_type": "markdown",
   "id": "09645527-0887-405f-9a9a-05da9cb45270",
   "metadata": {},
   "source": [
    "## Lab 02 Draw spectrogram\n",
    "2023/03/24\n",
    "source: \n",
    "\n",
    "> https://hyunlee103.tistory.com/36\n",
    "\n",
    "> https://dacon.io/en/competitions/official/235616/codeshare/1277\n",
    "\n",
    "> https://matplotlib.org/stable/tutorials/colors/colormaps.html"
   ]
  },
  {
   "cell_type": "code",
   "execution_count": null,
   "id": "d2fbc717-5dc6-43a9-b7c3-9f8f2b06506f",
   "metadata": {
    "tags": []
   },
   "outputs": [],
   "source": [
    "# import necessary pacakages\n",
    "import sys\n",
    "import numpy as np\n",
    "import librosa\n",
    "import librosa.display\n",
    "from matplotlib import pyplot as plt\n",
    "\n",
    "#from scipy.io import wavfile\n",
    "from scipy import signal\n",
    "from scipy.fft import fftshift"
   ]
  },
  {
   "cell_type": "code",
   "execution_count": null,
   "id": "d94df199-6bc7-4a5f-9c4e-50ee25d7aebe",
   "metadata": {
    "tags": []
   },
   "outputs": [],
   "source": [
    "# parameters for signal analysis and drawing\n",
    "#FIG_SIZE = (15,10)\n",
    "Ts = 0.01   # 10 ms shift size\n",
    "Tf = 0.02   # 20 ms frame size\n",
    "#cmap_plot = plt.cm.bone # default colormap for spectrogram, gray\n",
    "cmap_plot = plt.cm.bone_r # default colormap for spectrogram, gray\n",
    "#cmap_plot = plt.cm.plasma \n",
    "#cmap_plot = plt.cm.inferno\n",
    "Fs = 16000\n",
    "\n",
    "#wavfile = 'kdigits0-2.wav'  # 0.6 - 1.1\n",
    "wavfile = 'kdigits0-3.wav'  # 1.0 - 1.5"
   ]
  },
  {
   "cell_type": "markdown",
   "id": "79f3b27f-41ff-4f0f-8781-2c162c98c8cf",
   "metadata": {},
   "source": [
    "### load an example windows wav file"
   ]
  },
  {
   "cell_type": "code",
   "execution_count": null,
   "id": "cb0ede05-6aca-4f79-9202-80faaa966302",
   "metadata": {
    "tags": []
   },
   "outputs": [],
   "source": [
    "# load audio file with Librosa\n",
    "x, Fs = librosa.load(wavfile, sr = Fs)\n",
    "print(x,x.shape)\n",
    "\n",
    "Ns = int(Fs*Ts)    # shift number of samples\n",
    "Nf = int(Fs*Tf)    # frame number of samples\n",
    "print('Fs = %d, Ns = %d, Nf = %d' % (Fs, Ns, Nf))"
   ]
  },
  {
   "cell_type": "markdown",
   "id": "cbbe1916-81e9-4942-bd0b-d105a74bf6d1",
   "metadata": {
    "tags": []
   },
   "source": [
    "### Waveform 시각화"
   ]
  },
  {
   "cell_type": "code",
   "execution_count": null,
   "id": "0f037d4d-fd40-4a0f-ae59-3df91e59a061",
   "metadata": {
    "tags": []
   },
   "outputs": [],
   "source": [
    "#plt.figure(figsize=FIG_SIZE)\n",
    "librosa.display.waveshow(x, sr=Fs)\n",
    "# plt.plot(x) works as well \n",
    "plt.xlabel(\"Time (s)\")\n",
    "plt.ylabel(\"Amplitude\")\n",
    "plt.title(\"Waveform\")"
   ]
  },
  {
   "cell_type": "markdown",
   "id": "4c0ffe4f-ab35-4806-acec-d2980d600ef0",
   "metadata": {},
   "source": [
    "- 음성 부분만 tight하게 잘라낸다"
   ]
  },
  {
   "cell_type": "code",
   "execution_count": null,
   "id": "c35f579d-7f5e-4931-8b61-676fffde41cf",
   "metadata": {
    "tags": []
   },
   "outputs": [],
   "source": [
    "x, Fs = librosa.load(wavfile, sr = Fs)\n",
    "x = x[int(Fs*1.0):int(Fs*1.5)]\n",
    "\n",
    "#plt.figure(figsize=FIG_SIZE)\n",
    "librosa.display.waveshow(x, sr=Fs)\n",
    "# plt.plot(x) works as well \n",
    "plt.xlabel(\"Time (s)\")\n",
    "plt.ylabel(\"Amplitude\")\n",
    "plt.title(\"Waveform\")"
   ]
  },
  {
   "cell_type": "markdown",
   "id": "2f1ec3e7-286e-4a7a-9959-559d15365730",
   "metadata": {},
   "source": [
    "### draw spectrogram"
   ]
  },
  {
   "cell_type": "code",
   "execution_count": null,
   "id": "5764004d-1445-4762-9e67-a1cb8744faa6",
   "metadata": {
    "tags": []
   },
   "outputs": [],
   "source": [
    "# draw spectrum by matplotlib\n",
    "[pxx,freq,t,cax] = plt.specgram(x,Fs=Fs,\n",
    "        window=np.hamming(Ns*2),\n",
    "        NFFT=Ns*2,noverlap=80,\n",
    "        scale_by_freq=True,\n",
    "        mode='psd',scale='dB',\n",
    "        cmap=cmap_plot)\n",
    "\n",
    "lab = 'input signal, PSD %.1f+/-%.1f'%(pxx[:].mean(),pxx[:].std())\n",
    "plt.text(len(x)/Fs*0.05,Fs/8,lab)\n",
    "plt.xlabel('time (seconds)')\n",
    "plt.ylabel('frequency (Hz)')\n",
    "plt.colorbar(format=\"%+2.0f dB\")\n",
    "plt.title(\"Spectrogram (dB)\")"
   ]
  },
  {
   "cell_type": "code",
   "execution_count": null,
   "id": "e0a7b0e8-fd5c-4e48-8a1b-ef1b71ae8115",
   "metadata": {
    "tags": []
   },
   "outputs": [],
   "source": [
    "# draw spectrum by librosa\n",
    "# https://dacon.io/en/competitions/official/235616/codeshare/1277\n",
    "\n",
    "# STFT -> spectrogram\n",
    "stft = librosa.stft(x, n_fft=Nf, hop_length=Ns)\n",
    "magnitude = np.abs(stft)\n",
    "log_spectrogram = librosa.amplitude_to_db(magnitude)\n",
    "\n",
    "plt.figure()\n",
    "librosa.display.specshow(log_spectrogram, sr=Fs, hop_length=Ns)\n",
    "plt.xlabel(\"Time\")\n",
    "plt.ylabel(\"Frequency\")\n",
    "plt.colorbar(format=\"%+2.0f dB\")\n",
    "plt.title(\"Spectrogram (dB)\")"
   ]
  },
  {
   "cell_type": "code",
   "execution_count": null,
   "id": "f7247045-f7af-482a-a5cb-93d2e47396d6",
   "metadata": {
    "tags": []
   },
   "outputs": [],
   "source": [
    "# draw spectrum by librosa, log scale in frequency\n",
    "# https://librosa.org/doc/main/auto_examples/plot_display.html\n",
    "fig, ax = plt.subplots()\n",
    "D_highres = librosa.stft(x, hop_length=Ns, n_fft=Nf)\n",
    "S_db_hr = librosa.amplitude_to_db(np.abs(D_highres), ref=np.max)\n",
    "img = librosa.display.specshow(S_db_hr, hop_length=Ns, x_axis='time', y_axis='log', ax=ax)\n",
    "ax.set(title='Higher time and frequency resolution')\n",
    "fig.colorbar(img, ax=ax, format=\"%+2.f dB\")"
   ]
  },
  {
   "cell_type": "code",
   "execution_count": null,
   "id": "c2620c8a-eefa-412a-b2b0-61b0e894937b",
   "metadata": {
    "tags": []
   },
   "outputs": [],
   "source": [
    "# draw spectrum using scipy - not working\n",
    "# https://docs.scipy.org/doc/scipy/reference/generated/scipy.signal.spectrogram.html\n",
    "print(x.shape)\n",
    "f, t, Sxx = signal.spectrogram(x, Fs, return_onesided=False)\n",
    "plt.pcolormesh(t, fftshift(f), fftshift(Sxx, axes=0), shading='gouraud')\n",
    "plt.ylabel('Frequency [Hz]')\n",
    "plt.xlabel('Time [sec]')\n",
    "plt.show()"
   ]
  },
  {
   "cell_type": "markdown",
   "id": "f11bc3d0-d556-40d1-b2af-46076a7431b7",
   "metadata": {
    "tags": []
   },
   "source": [
    "## 직접 그려본다\n",
    "\n",
    "1. 20 ms 간격으로 나눈다\n",
    "\n",
    "2. FFT 수행 \n",
    "\n",
    "3. `imshow`로 그린다."
   ]
  },
  {
   "cell_type": "markdown",
   "id": "127f0f32-20a8-4f85-9131-35e839bd7f5b",
   "metadata": {
    "tags": []
   },
   "source": [
    "- 한 frame 그려보기 "
   ]
  },
  {
   "cell_type": "code",
   "execution_count": null,
   "id": "60e1ff46-b49e-406f-bf74-907e128edd4d",
   "metadata": {
    "tags": []
   },
   "outputs": [],
   "source": [
    "# 0.2~0.22 부분을 추출한다. \n",
    "y = x[int(Fs*0.2):int(Fs*0.22)]"
   ]
  },
  {
   "cell_type": "code",
   "execution_count": null,
   "id": "bb98f436-d390-44f4-a6c4-2294082ab196",
   "metadata": {
    "tags": []
   },
   "outputs": [],
   "source": [
    "Y = np.abs(np.fft.fft(y))\n",
    "plt.plot(Y)"
   ]
  },
  {
   "cell_type": "code",
   "execution_count": null,
   "id": "19a7c9d0-cece-4884-b26b-5a96af08fa71",
   "metadata": {
    "tags": []
   },
   "outputs": [],
   "source": [
    "# 0~PI+1 까지의 절대값\n",
    "Y = np.abs(np.fft.fft(y))\n",
    "Y = Y[:(len(Y)//2+1)]\n",
    "plt.plot(Y)"
   ]
  },
  {
   "cell_type": "code",
   "execution_count": null,
   "id": "657454c3-bb30-44ac-bad6-96ba15a5f3d4",
   "metadata": {
    "tags": []
   },
   "outputs": [],
   "source": [
    "# 0~PI+1 까지의 절대값\n",
    "# log scale 로\n",
    "Y = np.log(np.abs(np.fft.fft(y)))\n",
    "Y = Y[:(len(Y)//2+1)]\n",
    "plt.plot(Y)"
   ]
  },
  {
   "cell_type": "code",
   "execution_count": null,
   "id": "2c97a026-114e-45b8-9039-967d5ab60a71",
   "metadata": {
    "tags": []
   },
   "outputs": [],
   "source": [
    "# 0~PI+1 까지의 절대값\n",
    "# log scale 로\n",
    "Y = np.log(np.abs(np.fft.fft(y)))\n",
    "Y = Y[:(len(Y)//2+1)]\n",
    "xticks=np.arange(len(Y))/len(Y)*Fs/2\n",
    "plt.plot(xticks, Y)\n",
    "plt.xlabel('frequency (Hz)')\n",
    "plt.ylabel('log magnitude')"
   ]
  },
  {
   "cell_type": "markdown",
   "id": "f7f77c00-6ed7-4ef6-8baf-7020f9b60d34",
   "metadata": {},
   "source": [
    "### Short-time Fourier transform"
   ]
  },
  {
   "cell_type": "code",
   "execution_count": null,
   "id": "7ce147e7-e648-4415-b373-4227c91781cf",
   "metadata": {
    "tags": []
   },
   "outputs": [],
   "source": [
    "# Short-time Fourier transform\n",
    "# 20ms 간격으로 나눈다\n",
    "T = len(x)   # number of samples\n",
    "num_frames = T//Nf# 마지막 채워지지 않은 프레임은 버린다. 구현에 따라 zero-padding해서 사용 가능\n",
    "hNo = Nf//2+1\n",
    "X = np.zeros((hNo,num_frames))\n",
    "for i in range(num_frames):\n",
    "    y = np.fft.fft(x[(i*Nf):((i+1)*Nf)])\n",
    "    y = y[:hNo]\n",
    "    X[:,i] = np.abs(y)"
   ]
  },
  {
   "cell_type": "code",
   "execution_count": null,
   "id": "9010c7e0-40cf-4096-82c7-d34782a534a6",
   "metadata": {
    "tags": []
   },
   "outputs": [],
   "source": [
    "plt.imshow(X, cmap=cmap_plot)"
   ]
  },
  {
   "cell_type": "code",
   "execution_count": null,
   "id": "a2ace1d5-9d79-4e98-8107-afabfc1660d0",
   "metadata": {
    "tags": []
   },
   "outputs": [],
   "source": [
    "plt.imshow(X, cmap=cmap_plot, origin='lower')"
   ]
  },
  {
   "cell_type": "code",
   "execution_count": null,
   "id": "33b3d6c8-d58a-475a-818e-4e0311309976",
   "metadata": {
    "tags": []
   },
   "outputs": [],
   "source": [
    "specgram_axis = [0,float(len(x))/float(Fs),0,float(Fs)/2]\n",
    "plt.imshow(X, cmap=cmap_plot, origin='lower', aspect='auto', extent=specgram_axis)\n",
    "plt.xlabel('time (seconds)')\n",
    "plt.ylabel('frequency (Hz)')"
   ]
  },
  {
   "cell_type": "code",
   "execution_count": null,
   "id": "f8e0b11b-70b4-453a-a631-23f4df66e346",
   "metadata": {
    "tags": []
   },
   "outputs": [],
   "source": [
    "# Short-time Fourier transform\n",
    "# 20ms 간격으로 나눈다\n",
    "T = len(x)   # number of samples\n",
    "num_frames = T//Nf# 마지막 채워지지 않은 프레임은 버린다. 구현에 따라 zero-padding해서 사용 가능\n",
    "hNo = Nf//2+1\n",
    "X = np.zeros((hNo,num_frames))\n",
    "for i in range(num_frames):\n",
    "    y = np.fft.fft(x[(i*Nf):((i+1)*Nf)])\n",
    "    y = y[:hNo]\n",
    "    X[:,i] = np.abs(y)\n",
    "\n",
    "# 상위 80% 정도만 scale 한다. imshow의 vmin vmax 이용 \n",
    "vmax = np.max(X[:])\n",
    "vmin = np.percentile(X[:], 91)\n",
    "print(vmax, vmin)\n",
    "\n",
    "specgram_axis = [0,float(len(x))/float(Fs),0,float(Fs)/2]\n",
    "plt.imshow(X, cmap=cmap_plot, origin='lower', aspect='auto', extent=specgram_axis, vmax=vmax, vmin=vmin)\n",
    "plt.xlabel('time (seconds)')\n",
    "plt.ylabel('frequency (Hz)')"
   ]
  },
  {
   "cell_type": "markdown",
   "id": "c991d8c4-83ce-4af9-8d7e-f0ba5a04eb9a",
   "metadata": {
    "tags": []
   },
   "source": [
    "### Hamming windows"
   ]
  },
  {
   "cell_type": "code",
   "execution_count": null,
   "id": "5c14a7e4-4d7a-45ed-9f5d-2e4230955771",
   "metadata": {
    "tags": []
   },
   "outputs": [],
   "source": [
    "T = 1024\n",
    "sinusoid = np.sin(np.arange(T)/T*20*np.pi)\n",
    "plt.plot(sinusoid)"
   ]
  },
  {
   "cell_type": "code",
   "execution_count": null,
   "id": "6f921a09-f929-4426-a2cd-7fe4dd8cd1bb",
   "metadata": {},
   "outputs": [],
   "source": []
  },
  {
   "cell_type": "code",
   "execution_count": null,
   "id": "fd3b6394-189a-4b7d-8c3b-6d605af26f82",
   "metadata": {
    "tags": []
   },
   "outputs": [],
   "source": [
    "# 0~PI+1 까지의 절대값\n",
    "# log scale 로\n",
    "Y = np.log(np.abs(np.fft.fft(sinusoid)))\n",
    "Y = Y[:(len(Y)//2+1)]\n",
    "xticks=np.arange(len(Y))/len(Y)*Fs/2\n",
    "plt.plot(xticks, Y)\n",
    "plt.xlabel('frequency (Hz)')\n",
    "plt.ylabel('log magnitude')"
   ]
  },
  {
   "cell_type": "code",
   "execution_count": null,
   "id": "deaa335b-8210-46dd-ae86-9e0486813593",
   "metadata": {
    "tags": []
   },
   "outputs": [],
   "source": [
    "win = librosa.filters.get_window('hamming', T, fftbins=True)\n",
    "plt.plot(win)"
   ]
  },
  {
   "cell_type": "code",
   "execution_count": null,
   "id": "d50d535f-bb6f-42f5-8dda-5758f1ddb802",
   "metadata": {
    "tags": []
   },
   "outputs": [],
   "source": [
    "# 0~PI+1 까지의 절대값\n",
    "# log scale 로\n",
    "Y = np.log(np.abs(np.fft.fft(win*sinusoid)))\n",
    "Y = Y[:(len(Y)//2+1)]\n",
    "xticks=np.arange(len(Y))/len(Y)*Fs/2\n",
    "plt.plot(xticks, Y)\n",
    "plt.xlabel('frequency (Hz)')\n",
    "plt.ylabel('log magnitude')"
   ]
  },
  {
   "cell_type": "markdown",
   "id": "7b53ac5a-8a0f-49f7-a0d8-19818099725c",
   "metadata": {},
   "source": [
    "### STFT에 hamming window 적용 "
   ]
  },
  {
   "cell_type": "markdown",
   "id": "400ae798-8687-4552-a64c-bff4fd76990a",
   "metadata": {
    "tags": []
   },
   "source": [
    "- 20 ms frame size, 10 ms shift size 적용, rectangular window"
   ]
  },
  {
   "cell_type": "code",
   "execution_count": null,
   "id": "bec10abe-22f7-4329-8e41-0026b3b9812c",
   "metadata": {
    "tags": []
   },
   "outputs": [],
   "source": [
    "# Short-time Fourier transform\n",
    "# 10ms 간격, 20ms 분석 \n",
    "T = len(x)   # number of samples\n",
    "#num_frames = T//Nf# 마지막 채워지지 않은 프레임은 버린다. 구현에 따라 zero-padding해서 사용 가능\n",
    "num_frames = (T-Nf)//Ns + 1 \n",
    "hNo = Nf//2+1\n",
    "X = np.zeros((hNo,num_frames))\n",
    "win = librosa.filters.get_window('hamming', Nf, fftbins=True)\n",
    "for i in range(num_frames):\n",
    "    y = x[(i*Ns):(i*Ns+Nf)]\n",
    "    y = np.fft.fft(y)\n",
    "    y = y[:hNo]\n",
    "    X[:,i] = np.abs(y)\n",
    "\n",
    "# 상위 80% 정도만 scale 한다. imshow의 vmin vmax 이용 \n",
    "vmax = np.max(X[:])\n",
    "vmin = np.percentile(X[:], 91)\n",
    "print(vmax, vmin)\n",
    "\n",
    "specgram_axis = [0,float(len(x))/float(Fs),0,float(Fs)/2]\n",
    "plt.imshow(X, cmap=cmap_plot, origin='lower', aspect='auto', extent=specgram_axis, vmax=vmax, vmin=vmin)\n",
    "plt.xlabel('time (seconds)')\n",
    "plt.ylabel('frequency (Hz)')"
   ]
  },
  {
   "cell_type": "markdown",
   "id": "9a67798c-8c89-4611-8ee8-1932b572e78c",
   "metadata": {},
   "source": [
    "- 20 ms frame size, 10 ms shift size 적용, hamming window"
   ]
  },
  {
   "cell_type": "code",
   "execution_count": null,
   "id": "db9f9e23-d12f-4d7f-934e-f98543af8c9e",
   "metadata": {
    "tags": []
   },
   "outputs": [],
   "source": [
    "win = librosa.filters.get_window('hamming', Nf, fftbins=True)\n",
    "plt.plot(win)"
   ]
  },
  {
   "cell_type": "code",
   "execution_count": null,
   "id": "851705fb-4910-4f3d-a8a2-e3b2ab26d1f6",
   "metadata": {
    "tags": []
   },
   "outputs": [],
   "source": [
    "# Short-time Fourier transform\n",
    "# 10ms 간격, 20ms 분석 \n",
    "T = len(x)   # number of samples\n",
    "#num_frames = T//Nf# 마지막 채워지지 않은 프레임은 버린다. 구현에 따라 zero-padding해서 사용 가능\n",
    "num_frames = (T-Nf)//Ns + 1 \n",
    "hNo = Nf//2+1\n",
    "X = np.zeros((hNo,num_frames))\n",
    "win = librosa.filters.get_window('hamming', Nf, fftbins=True)\n",
    "for i in range(num_frames):\n",
    "    y = x[(i*Ns):(i*Ns+Nf)]\n",
    "    # hamming window\n",
    "    y = win*y\n",
    "    y = np.fft.fft(y)\n",
    "    y = y[:hNo]\n",
    "    X[:,i] = np.abs(y)\n",
    "\n",
    "specgram_axis = [0,float(len(x))/float(Fs),0,float(Fs)/2]\n",
    "\n",
    "# 상위 80%-90% 정도만 scale 한다. 출력 보면서 결정\n",
    "# FILL with your code\n",
    "\n",
    "plt.xlabel('time (seconds)')\n",
    "plt.ylabel('frequency (Hz)')"
   ]
  },
  {
   "cell_type": "markdown",
   "id": "3428c672-4f94-4b56-89d4-9e99e17de8fa",
   "metadata": {
    "tags": []
   },
   "source": [
    "## Resampling: Decimation, Upsampling, lowpass filter design"
   ]
  },
  {
   "cell_type": "code",
   "execution_count": null,
   "id": "443832a0-7ee0-446c-a973-d125623d669a",
   "metadata": {
    "tags": []
   },
   "outputs": [],
   "source": [
    "# scipy.signal.firwin(numtaps, cutoff, width=None, window='hamming', pass_zero=True, scale=True, nyq=None, fs=None)[source]\n",
    "# FIR filter design using the window method.\n",
    "\n",
    "a = signal.firwin(51, 0.5, window='hamming')\n",
    "plt.plot(a)"
   ]
  },
  {
   "cell_type": "markdown",
   "id": "2f2cc10f-ae74-4d39-bcdb-5863f58cb805",
   "metadata": {},
   "source": [
    "## End of Lab 02"
   ]
  }
 ],
 "metadata": {
  "kernelspec": {
   "display_name": "Python 3 (ipykernel)",
   "language": "python",
   "name": "python3"
  },
  "language_info": {
   "codemirror_mode": {
    "name": "ipython",
    "version": 3
   },
   "file_extension": ".py",
   "mimetype": "text/x-python",
   "name": "python",
   "nbconvert_exporter": "python",
   "pygments_lexer": "ipython3",
   "version": "3.10.6"
  }
 },
 "nbformat": 4,
 "nbformat_minor": 5
}
